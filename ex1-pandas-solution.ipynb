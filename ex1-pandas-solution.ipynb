{
 "cells": [
  {
   "cell_type": "markdown",
   "metadata": {},
   "source": [
    "### An exercise in cleaning data with Pandas\n",
    "\n",
    "#### You name: _______________\n",
    "#### Your andrew ID: _________________"
   ]
  },
  {
   "cell_type": "code",
   "execution_count": 1,
   "metadata": {
    "collapsed": true
   },
   "outputs": [],
   "source": [
    "import pandas as pd"
   ]
  },
  {
   "cell_type": "code",
   "execution_count": 2,
   "metadata": {
    "collapsed": false
   },
   "outputs": [
    {
     "data": {
      "text/html": [
       "<div>\n",
       "<table border=\"1\" class=\"dataframe\">\n",
       "  <thead>\n",
       "    <tr style=\"text-align: right;\">\n",
       "      <th></th>\n",
       "      <th>0</th>\n",
       "      <th>1</th>\n",
       "      <th>2</th>\n",
       "      <th>3</th>\n",
       "      <th>4</th>\n",
       "      <th>5</th>\n",
       "    </tr>\n",
       "  </thead>\n",
       "  <tbody>\n",
       "    <tr>\n",
       "      <th>0</th>\n",
       "      <td>9</td>\n",
       "      <td>January</td>\n",
       "      <td>(Monday)</td>\n",
       "      <td>17:06</td>\n",
       "      <td>to</td>\n",
       "      <td>20:02</td>\n",
       "    </tr>\n",
       "    <tr>\n",
       "      <th>1</th>\n",
       "      <td>24</td>\n",
       "      <td>January</td>\n",
       "      <td>(Tuesday)</td>\n",
       "      <td>17:23</td>\n",
       "      <td>to</td>\n",
       "      <td>20:15</td>\n",
       "    </tr>\n",
       "    <tr>\n",
       "      <th>2</th>\n",
       "      <td>8</td>\n",
       "      <td>February</td>\n",
       "      <td>(Wednesday)</td>\n",
       "      <td>17:42</td>\n",
       "      <td>to</td>\n",
       "      <td>20:27</td>\n",
       "    </tr>\n",
       "    <tr>\n",
       "      <th>3</th>\n",
       "      <td>23</td>\n",
       "      <td>February</td>\n",
       "      <td>(Thursday)</td>\n",
       "      <td>18:00</td>\n",
       "      <td>to</td>\n",
       "      <td>20:37</td>\n",
       "    </tr>\n",
       "    <tr>\n",
       "      <th>4</th>\n",
       "      <td>9</td>\n",
       "      <td>March</td>\n",
       "      <td>(Thursday)</td>\n",
       "      <td>18:16</td>\n",
       "      <td>to</td>\n",
       "      <td>20:45</td>\n",
       "    </tr>\n",
       "  </tbody>\n",
       "</table>\n",
       "</div>"
      ],
      "text/plain": [
       "    0         1            2      3   4      5\n",
       "0   9   January     (Monday)  17:06  to  20:02\n",
       "1  24   January    (Tuesday)  17:23  to  20:15\n",
       "2   8  February  (Wednesday)  17:42  to  20:27\n",
       "3  23  February   (Thursday)  18:00  to  20:37\n",
       "4   9     March   (Thursday)  18:16  to  20:45"
      ]
     },
     "execution_count": 2,
     "metadata": {},
     "output_type": "execute_result"
    }
   ],
   "source": [
    "df = pd.read_table('times.txt',sep='\\s+', engine='python', \n",
    "                   skiprows=4, names=[], index_col=None)\n",
    "df.head()"
   ]
  },
  {
   "cell_type": "code",
   "execution_count": 3,
   "metadata": {
    "collapsed": false
   },
   "outputs": [
    {
     "data": {
      "text/plain": [
       "0     int64\n",
       "1    object\n",
       "2    object\n",
       "3    object\n",
       "4    object\n",
       "5    object\n",
       "dtype: object"
      ]
     },
     "execution_count": 3,
     "metadata": {},
     "output_type": "execute_result"
    }
   ],
   "source": [
    "df.dtypes"
   ]
  },
  {
   "cell_type": "code",
   "execution_count": 4,
   "metadata": {
    "collapsed": false
   },
   "outputs": [
    {
     "data": {
      "text/html": [
       "<div>\n",
       "<table border=\"1\" class=\"dataframe\">\n",
       "  <thead>\n",
       "    <tr style=\"text-align: right;\">\n",
       "      <th></th>\n",
       "      <th>0</th>\n",
       "      <th>1</th>\n",
       "      <th>2</th>\n",
       "      <th>3</th>\n",
       "      <th>4</th>\n",
       "      <th>5</th>\n",
       "    </tr>\n",
       "  </thead>\n",
       "  <tbody>\n",
       "    <tr>\n",
       "      <th>0</th>\n",
       "      <td>9</td>\n",
       "      <td>January</td>\n",
       "      <td>Mon</td>\n",
       "      <td>17:06</td>\n",
       "      <td>to</td>\n",
       "      <td>20:02</td>\n",
       "    </tr>\n",
       "    <tr>\n",
       "      <th>1</th>\n",
       "      <td>24</td>\n",
       "      <td>January</td>\n",
       "      <td>Tue</td>\n",
       "      <td>17:23</td>\n",
       "      <td>to</td>\n",
       "      <td>20:15</td>\n",
       "    </tr>\n",
       "    <tr>\n",
       "      <th>2</th>\n",
       "      <td>8</td>\n",
       "      <td>February</td>\n",
       "      <td>Wed</td>\n",
       "      <td>17:42</td>\n",
       "      <td>to</td>\n",
       "      <td>20:27</td>\n",
       "    </tr>\n",
       "    <tr>\n",
       "      <th>3</th>\n",
       "      <td>23</td>\n",
       "      <td>February</td>\n",
       "      <td>Thu</td>\n",
       "      <td>18:00</td>\n",
       "      <td>to</td>\n",
       "      <td>20:37</td>\n",
       "    </tr>\n",
       "    <tr>\n",
       "      <th>4</th>\n",
       "      <td>9</td>\n",
       "      <td>March</td>\n",
       "      <td>Thu</td>\n",
       "      <td>18:16</td>\n",
       "      <td>to</td>\n",
       "      <td>20:45</td>\n",
       "    </tr>\n",
       "  </tbody>\n",
       "</table>\n",
       "</div>"
      ],
      "text/plain": [
       "    0         1    2      3   4      5\n",
       "0   9   January  Mon  17:06  to  20:02\n",
       "1  24   January  Tue  17:23  to  20:15\n",
       "2   8  February  Wed  17:42  to  20:27\n",
       "3  23  February  Thu  18:00  to  20:37\n",
       "4   9     March  Thu  18:16  to  20:45"
      ]
     },
     "execution_count": 4,
     "metadata": {},
     "output_type": "execute_result"
    }
   ],
   "source": [
    "df[2] = df[2].apply(lambda s: s[1:4])\n",
    "df.head()"
   ]
  },
  {
   "cell_type": "code",
   "execution_count": 5,
   "metadata": {
    "collapsed": false
   },
   "outputs": [
    {
     "data": {
      "text/html": [
       "<div>\n",
       "<table border=\"1\" class=\"dataframe\">\n",
       "  <thead>\n",
       "    <tr style=\"text-align: right;\">\n",
       "      <th></th>\n",
       "      <th>0</th>\n",
       "      <th>1</th>\n",
       "      <th>2</th>\n",
       "      <th>3</th>\n",
       "      <th>4</th>\n",
       "      <th>5</th>\n",
       "    </tr>\n",
       "  </thead>\n",
       "  <tbody>\n",
       "    <tr>\n",
       "      <th>0</th>\n",
       "      <td>9</td>\n",
       "      <td>Jan</td>\n",
       "      <td>Mon</td>\n",
       "      <td>17:06</td>\n",
       "      <td>to</td>\n",
       "      <td>20:02</td>\n",
       "    </tr>\n",
       "    <tr>\n",
       "      <th>1</th>\n",
       "      <td>24</td>\n",
       "      <td>Jan</td>\n",
       "      <td>Tue</td>\n",
       "      <td>17:23</td>\n",
       "      <td>to</td>\n",
       "      <td>20:15</td>\n",
       "    </tr>\n",
       "    <tr>\n",
       "      <th>2</th>\n",
       "      <td>8</td>\n",
       "      <td>Feb</td>\n",
       "      <td>Wed</td>\n",
       "      <td>17:42</td>\n",
       "      <td>to</td>\n",
       "      <td>20:27</td>\n",
       "    </tr>\n",
       "    <tr>\n",
       "      <th>3</th>\n",
       "      <td>23</td>\n",
       "      <td>Feb</td>\n",
       "      <td>Thu</td>\n",
       "      <td>18:00</td>\n",
       "      <td>to</td>\n",
       "      <td>20:37</td>\n",
       "    </tr>\n",
       "    <tr>\n",
       "      <th>4</th>\n",
       "      <td>9</td>\n",
       "      <td>Mar</td>\n",
       "      <td>Thu</td>\n",
       "      <td>18:16</td>\n",
       "      <td>to</td>\n",
       "      <td>20:45</td>\n",
       "    </tr>\n",
       "  </tbody>\n",
       "</table>\n",
       "</div>"
      ],
      "text/plain": [
       "    0    1    2      3   4      5\n",
       "0   9  Jan  Mon  17:06  to  20:02\n",
       "1  24  Jan  Tue  17:23  to  20:15\n",
       "2   8  Feb  Wed  17:42  to  20:27\n",
       "3  23  Feb  Thu  18:00  to  20:37\n",
       "4   9  Mar  Thu  18:16  to  20:45"
      ]
     },
     "execution_count": 5,
     "metadata": {},
     "output_type": "execute_result"
    }
   ],
   "source": [
    "df[1] = df[1].apply(lambda s: s[:3])\n",
    "df.head()"
   ]
  },
  {
   "cell_type": "code",
   "execution_count": 6,
   "metadata": {
    "collapsed": false,
    "scrolled": true
   },
   "outputs": [
    {
     "data": {
      "text/html": [
       "<div>\n",
       "<table border=\"1\" class=\"dataframe\">\n",
       "  <thead>\n",
       "    <tr style=\"text-align: right;\">\n",
       "      <th></th>\n",
       "      <th>0</th>\n",
       "      <th>2</th>\n",
       "      <th>3</th>\n",
       "      <th>4</th>\n",
       "      <th>5</th>\n",
       "    </tr>\n",
       "    <tr>\n",
       "      <th>1</th>\n",
       "      <th></th>\n",
       "      <th></th>\n",
       "      <th></th>\n",
       "      <th></th>\n",
       "      <th></th>\n",
       "    </tr>\n",
       "  </thead>\n",
       "  <tbody>\n",
       "    <tr>\n",
       "      <th>Jan</th>\n",
       "      <td>9</td>\n",
       "      <td>Mon</td>\n",
       "      <td>17:06</td>\n",
       "      <td>to</td>\n",
       "      <td>20:02</td>\n",
       "    </tr>\n",
       "    <tr>\n",
       "      <th>Jan</th>\n",
       "      <td>24</td>\n",
       "      <td>Tue</td>\n",
       "      <td>17:23</td>\n",
       "      <td>to</td>\n",
       "      <td>20:15</td>\n",
       "    </tr>\n",
       "    <tr>\n",
       "      <th>Feb</th>\n",
       "      <td>8</td>\n",
       "      <td>Wed</td>\n",
       "      <td>17:42</td>\n",
       "      <td>to</td>\n",
       "      <td>20:27</td>\n",
       "    </tr>\n",
       "    <tr>\n",
       "      <th>Feb</th>\n",
       "      <td>23</td>\n",
       "      <td>Thu</td>\n",
       "      <td>18:00</td>\n",
       "      <td>to</td>\n",
       "      <td>20:37</td>\n",
       "    </tr>\n",
       "    <tr>\n",
       "      <th>Mar</th>\n",
       "      <td>9</td>\n",
       "      <td>Thu</td>\n",
       "      <td>18:16</td>\n",
       "      <td>to</td>\n",
       "      <td>20:45</td>\n",
       "    </tr>\n",
       "  </tbody>\n",
       "</table>\n",
       "</div>"
      ],
      "text/plain": [
       "      0    2      3   4      5\n",
       "1                             \n",
       "Jan   9  Mon  17:06  to  20:02\n",
       "Jan  24  Tue  17:23  to  20:15\n",
       "Feb   8  Wed  17:42  to  20:27\n",
       "Feb  23  Thu  18:00  to  20:37\n",
       "Mar   9  Thu  18:16  to  20:45"
      ]
     },
     "execution_count": 6,
     "metadata": {},
     "output_type": "execute_result"
    }
   ],
   "source": [
    "df=df.set_index(1)\n",
    "df.head()"
   ]
  },
  {
   "cell_type": "code",
   "execution_count": 7,
   "metadata": {
    "collapsed": false
   },
   "outputs": [
    {
     "data": {
      "text/html": [
       "<div>\n",
       "<table border=\"1\" class=\"dataframe\">\n",
       "  <thead>\n",
       "    <tr style=\"text-align: right;\">\n",
       "      <th></th>\n",
       "      <th>day</th>\n",
       "      <th>dow</th>\n",
       "      <th>start</th>\n",
       "      <th>x</th>\n",
       "      <th>end</th>\n",
       "    </tr>\n",
       "    <tr>\n",
       "      <th>1</th>\n",
       "      <th></th>\n",
       "      <th></th>\n",
       "      <th></th>\n",
       "      <th></th>\n",
       "      <th></th>\n",
       "    </tr>\n",
       "  </thead>\n",
       "  <tbody>\n",
       "    <tr>\n",
       "      <th>Jan</th>\n",
       "      <td>9</td>\n",
       "      <td>Mon</td>\n",
       "      <td>17:06</td>\n",
       "      <td>to</td>\n",
       "      <td>20:02</td>\n",
       "    </tr>\n",
       "    <tr>\n",
       "      <th>Jan</th>\n",
       "      <td>24</td>\n",
       "      <td>Tue</td>\n",
       "      <td>17:23</td>\n",
       "      <td>to</td>\n",
       "      <td>20:15</td>\n",
       "    </tr>\n",
       "    <tr>\n",
       "      <th>Feb</th>\n",
       "      <td>8</td>\n",
       "      <td>Wed</td>\n",
       "      <td>17:42</td>\n",
       "      <td>to</td>\n",
       "      <td>20:27</td>\n",
       "    </tr>\n",
       "    <tr>\n",
       "      <th>Feb</th>\n",
       "      <td>23</td>\n",
       "      <td>Thu</td>\n",
       "      <td>18:00</td>\n",
       "      <td>to</td>\n",
       "      <td>20:37</td>\n",
       "    </tr>\n",
       "    <tr>\n",
       "      <th>Mar</th>\n",
       "      <td>9</td>\n",
       "      <td>Thu</td>\n",
       "      <td>18:16</td>\n",
       "      <td>to</td>\n",
       "      <td>20:45</td>\n",
       "    </tr>\n",
       "  </tbody>\n",
       "</table>\n",
       "</div>"
      ],
      "text/plain": [
       "     day  dow  start   x    end\n",
       "1                              \n",
       "Jan    9  Mon  17:06  to  20:02\n",
       "Jan   24  Tue  17:23  to  20:15\n",
       "Feb    8  Wed  17:42  to  20:27\n",
       "Feb   23  Thu  18:00  to  20:37\n",
       "Mar    9  Thu  18:16  to  20:45"
      ]
     },
     "execution_count": 7,
     "metadata": {},
     "output_type": "execute_result"
    }
   ],
   "source": [
    "df.columns = ['day', 'dow', 'start', 'x', 'end']\n",
    "df.head()"
   ]
  },
  {
   "cell_type": "code",
   "execution_count": 8,
   "metadata": {
    "collapsed": false
   },
   "outputs": [
    {
     "data": {
      "text/html": [
       "<div>\n",
       "<table border=\"1\" class=\"dataframe\">\n",
       "  <thead>\n",
       "    <tr style=\"text-align: right;\">\n",
       "      <th></th>\n",
       "      <th>day</th>\n",
       "      <th>dow</th>\n",
       "      <th>start</th>\n",
       "      <th>end</th>\n",
       "    </tr>\n",
       "    <tr>\n",
       "      <th>1</th>\n",
       "      <th></th>\n",
       "      <th></th>\n",
       "      <th></th>\n",
       "      <th></th>\n",
       "    </tr>\n",
       "  </thead>\n",
       "  <tbody>\n",
       "    <tr>\n",
       "      <th>Jan</th>\n",
       "      <td>9</td>\n",
       "      <td>Mon</td>\n",
       "      <td>17:06</td>\n",
       "      <td>20:02</td>\n",
       "    </tr>\n",
       "    <tr>\n",
       "      <th>Jan</th>\n",
       "      <td>24</td>\n",
       "      <td>Tue</td>\n",
       "      <td>17:23</td>\n",
       "      <td>20:15</td>\n",
       "    </tr>\n",
       "    <tr>\n",
       "      <th>Feb</th>\n",
       "      <td>8</td>\n",
       "      <td>Wed</td>\n",
       "      <td>17:42</td>\n",
       "      <td>20:27</td>\n",
       "    </tr>\n",
       "    <tr>\n",
       "      <th>Feb</th>\n",
       "      <td>23</td>\n",
       "      <td>Thu</td>\n",
       "      <td>18:00</td>\n",
       "      <td>20:37</td>\n",
       "    </tr>\n",
       "    <tr>\n",
       "      <th>Mar</th>\n",
       "      <td>9</td>\n",
       "      <td>Thu</td>\n",
       "      <td>18:16</td>\n",
       "      <td>20:45</td>\n",
       "    </tr>\n",
       "  </tbody>\n",
       "</table>\n",
       "</div>"
      ],
      "text/plain": [
       "     day  dow  start    end\n",
       "1                          \n",
       "Jan    9  Mon  17:06  20:02\n",
       "Jan   24  Tue  17:23  20:15\n",
       "Feb    8  Wed  17:42  20:27\n",
       "Feb   23  Thu  18:00  20:37\n",
       "Mar    9  Thu  18:16  20:45"
      ]
     },
     "execution_count": 8,
     "metadata": {},
     "output_type": "execute_result"
    }
   ],
   "source": [
    "df=df.drop('x', axis=1)\n",
    "df.head()"
   ]
  },
  {
   "cell_type": "code",
   "execution_count": 9,
   "metadata": {
    "collapsed": false
   },
   "outputs": [
    {
     "data": {
      "text/plain": [
       "day       int64\n",
       "dow      object\n",
       "start    object\n",
       "end      object\n",
       "dtype: object"
      ]
     },
     "execution_count": 9,
     "metadata": {},
     "output_type": "execute_result"
    }
   ],
   "source": [
    "df.dtypes"
   ]
  },
  {
   "cell_type": "code",
   "execution_count": 10,
   "metadata": {
    "collapsed": false,
    "scrolled": true
   },
   "outputs": [
    {
     "data": {
      "text/html": [
       "<div>\n",
       "<table border=\"1\" class=\"dataframe\">\n",
       "  <thead>\n",
       "    <tr style=\"text-align: right;\">\n",
       "      <th></th>\n",
       "      <th>day</th>\n",
       "      <th>dow</th>\n",
       "      <th>start</th>\n",
       "      <th>end</th>\n",
       "      <th>s_dt</th>\n",
       "      <th>e_dt</th>\n",
       "    </tr>\n",
       "    <tr>\n",
       "      <th>1</th>\n",
       "      <th></th>\n",
       "      <th></th>\n",
       "      <th></th>\n",
       "      <th></th>\n",
       "      <th></th>\n",
       "      <th></th>\n",
       "    </tr>\n",
       "  </thead>\n",
       "  <tbody>\n",
       "    <tr>\n",
       "      <th>Jan</th>\n",
       "      <td>9</td>\n",
       "      <td>Mon</td>\n",
       "      <td>17:06</td>\n",
       "      <td>20:02</td>\n",
       "      <td>2017-01-31 17:06:00</td>\n",
       "      <td>2017-01-31 20:02:00</td>\n",
       "    </tr>\n",
       "    <tr>\n",
       "      <th>Jan</th>\n",
       "      <td>24</td>\n",
       "      <td>Tue</td>\n",
       "      <td>17:23</td>\n",
       "      <td>20:15</td>\n",
       "      <td>2017-01-31 17:23:00</td>\n",
       "      <td>2017-01-31 20:15:00</td>\n",
       "    </tr>\n",
       "    <tr>\n",
       "      <th>Feb</th>\n",
       "      <td>8</td>\n",
       "      <td>Wed</td>\n",
       "      <td>17:42</td>\n",
       "      <td>20:27</td>\n",
       "      <td>2017-01-31 17:42:00</td>\n",
       "      <td>2017-01-31 20:27:00</td>\n",
       "    </tr>\n",
       "    <tr>\n",
       "      <th>Feb</th>\n",
       "      <td>23</td>\n",
       "      <td>Thu</td>\n",
       "      <td>18:00</td>\n",
       "      <td>20:37</td>\n",
       "      <td>2017-01-31 18:00:00</td>\n",
       "      <td>2017-01-31 20:37:00</td>\n",
       "    </tr>\n",
       "    <tr>\n",
       "      <th>Mar</th>\n",
       "      <td>9</td>\n",
       "      <td>Thu</td>\n",
       "      <td>18:16</td>\n",
       "      <td>20:45</td>\n",
       "      <td>2017-01-31 18:16:00</td>\n",
       "      <td>2017-01-31 20:45:00</td>\n",
       "    </tr>\n",
       "  </tbody>\n",
       "</table>\n",
       "</div>"
      ],
      "text/plain": [
       "     day  dow  start    end                s_dt                e_dt\n",
       "1                                                                  \n",
       "Jan    9  Mon  17:06  20:02 2017-01-31 17:06:00 2017-01-31 20:02:00\n",
       "Jan   24  Tue  17:23  20:15 2017-01-31 17:23:00 2017-01-31 20:15:00\n",
       "Feb    8  Wed  17:42  20:27 2017-01-31 17:42:00 2017-01-31 20:27:00\n",
       "Feb   23  Thu  18:00  20:37 2017-01-31 18:00:00 2017-01-31 20:37:00\n",
       "Mar    9  Thu  18:16  20:45 2017-01-31 18:16:00 2017-01-31 20:45:00"
      ]
     },
     "execution_count": 10,
     "metadata": {},
     "output_type": "execute_result"
    }
   ],
   "source": [
    "df['s_dt']=pd.to_datetime(df['start']) \n",
    "df['e_dt']=pd.to_datetime(df['end'])   \n",
    "df.head()"
   ]
  },
  {
   "cell_type": "code",
   "execution_count": 11,
   "metadata": {
    "collapsed": false
   },
   "outputs": [
    {
     "data": {
      "text/plain": [
       "day               int64\n",
       "dow              object\n",
       "start            object\n",
       "end              object\n",
       "s_dt     datetime64[ns]\n",
       "e_dt     datetime64[ns]\n",
       "dtype: object"
      ]
     },
     "execution_count": 11,
     "metadata": {},
     "output_type": "execute_result"
    }
   ],
   "source": [
    "df.dtypes"
   ]
  },
  {
   "cell_type": "code",
   "execution_count": 12,
   "metadata": {
    "collapsed": false,
    "scrolled": true
   },
   "outputs": [
    {
     "data": {
      "text/html": [
       "<div>\n",
       "<table border=\"1\" class=\"dataframe\">\n",
       "  <thead>\n",
       "    <tr style=\"text-align: right;\">\n",
       "      <th></th>\n",
       "      <th>day</th>\n",
       "      <th>dow</th>\n",
       "      <th>start</th>\n",
       "      <th>end</th>\n",
       "      <th>s_dt</th>\n",
       "      <th>e_dt</th>\n",
       "      <th>diff</th>\n",
       "    </tr>\n",
       "    <tr>\n",
       "      <th>1</th>\n",
       "      <th></th>\n",
       "      <th></th>\n",
       "      <th></th>\n",
       "      <th></th>\n",
       "      <th></th>\n",
       "      <th></th>\n",
       "      <th></th>\n",
       "    </tr>\n",
       "  </thead>\n",
       "  <tbody>\n",
       "    <tr>\n",
       "      <th>Jan</th>\n",
       "      <td>9</td>\n",
       "      <td>Mon</td>\n",
       "      <td>17:06</td>\n",
       "      <td>20:02</td>\n",
       "      <td>2017-01-31 17:06:00</td>\n",
       "      <td>2017-01-31 20:02:00</td>\n",
       "      <td>02:56:00</td>\n",
       "    </tr>\n",
       "    <tr>\n",
       "      <th>Jan</th>\n",
       "      <td>24</td>\n",
       "      <td>Tue</td>\n",
       "      <td>17:23</td>\n",
       "      <td>20:15</td>\n",
       "      <td>2017-01-31 17:23:00</td>\n",
       "      <td>2017-01-31 20:15:00</td>\n",
       "      <td>02:52:00</td>\n",
       "    </tr>\n",
       "    <tr>\n",
       "      <th>Feb</th>\n",
       "      <td>8</td>\n",
       "      <td>Wed</td>\n",
       "      <td>17:42</td>\n",
       "      <td>20:27</td>\n",
       "      <td>2017-01-31 17:42:00</td>\n",
       "      <td>2017-01-31 20:27:00</td>\n",
       "      <td>02:45:00</td>\n",
       "    </tr>\n",
       "    <tr>\n",
       "      <th>Feb</th>\n",
       "      <td>23</td>\n",
       "      <td>Thu</td>\n",
       "      <td>18:00</td>\n",
       "      <td>20:37</td>\n",
       "      <td>2017-01-31 18:00:00</td>\n",
       "      <td>2017-01-31 20:37:00</td>\n",
       "      <td>02:37:00</td>\n",
       "    </tr>\n",
       "    <tr>\n",
       "      <th>Mar</th>\n",
       "      <td>9</td>\n",
       "      <td>Thu</td>\n",
       "      <td>18:16</td>\n",
       "      <td>20:45</td>\n",
       "      <td>2017-01-31 18:16:00</td>\n",
       "      <td>2017-01-31 20:45:00</td>\n",
       "      <td>02:29:00</td>\n",
       "    </tr>\n",
       "  </tbody>\n",
       "</table>\n",
       "</div>"
      ],
      "text/plain": [
       "     day  dow  start    end                s_dt                e_dt     diff\n",
       "1                                                                           \n",
       "Jan    9  Mon  17:06  20:02 2017-01-31 17:06:00 2017-01-31 20:02:00 02:56:00\n",
       "Jan   24  Tue  17:23  20:15 2017-01-31 17:23:00 2017-01-31 20:15:00 02:52:00\n",
       "Feb    8  Wed  17:42  20:27 2017-01-31 17:42:00 2017-01-31 20:27:00 02:45:00\n",
       "Feb   23  Thu  18:00  20:37 2017-01-31 18:00:00 2017-01-31 20:37:00 02:37:00\n",
       "Mar    9  Thu  18:16  20:45 2017-01-31 18:16:00 2017-01-31 20:45:00 02:29:00"
      ]
     },
     "execution_count": 12,
     "metadata": {},
     "output_type": "execute_result"
    }
   ],
   "source": [
    "df['diff'] = df['e_dt']-df['s_dt']\n",
    "df.head()"
   ]
  },
  {
   "cell_type": "code",
   "execution_count": 13,
   "metadata": {
    "collapsed": false,
    "scrolled": false
   },
   "outputs": [
    {
     "data": {
      "text/plain": [
       "day                int64\n",
       "dow               object\n",
       "start             object\n",
       "end               object\n",
       "s_dt      datetime64[ns]\n",
       "e_dt      datetime64[ns]\n",
       "diff     timedelta64[ns]\n",
       "dtype: object"
      ]
     },
     "execution_count": 13,
     "metadata": {},
     "output_type": "execute_result"
    }
   ],
   "source": [
    "df.dtypes"
   ]
  },
  {
   "cell_type": "markdown",
   "metadata": {},
   "source": [
    "#### Grading Criteria:\n",
    "\n",
    "1. Above seven columns in output\n",
    "2. Rows labels have been trimmed to 3 letters\n",
    "3. df.dtypes are as above\n",
    "\n",
    "```\n",
    "   2 points for getting all 3 criteria\n",
    "   1 point for getting any 1 or 2 out of 3\n",
    "   0 notebook doesn't run or none of the criteria are achieved\n",
    "```"
   ]
  },
  {
   "cell_type": "code",
   "execution_count": null,
   "metadata": {
    "collapsed": true
   },
   "outputs": [],
   "source": []
  }
 ],
 "metadata": {
  "kernelspec": {
   "display_name": "Python 3",
   "language": "python",
   "name": "python3"
  },
  "language_info": {
   "codemirror_mode": {
    "name": "ipython",
    "version": 3
   },
   "file_extension": ".py",
   "mimetype": "text/x-python",
   "name": "python",
   "nbconvert_exporter": "python",
   "pygments_lexer": "ipython3",
   "version": "3.5.2"
  }
 },
 "nbformat": 4,
 "nbformat_minor": 0
}
